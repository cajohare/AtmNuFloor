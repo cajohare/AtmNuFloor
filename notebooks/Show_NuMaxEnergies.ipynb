{
 "cells": [
  {
   "cell_type": "code",
   "execution_count": 2,
   "metadata": {},
   "outputs": [
    {
     "name": "stdout",
     "output_type": "stream",
     "text": [
      "pp $ 0.42341 $ & $ 0.0030 $ & $ 0.0099 $\n",
      "pep $ 1.44 $ & $ 0.0345 $ & $ 0.1142 $\n",
      "hep $ 18.765 $ & $ 5.8594 $ & $ 19.3673 $\n",
      "7Be1 $ 0.3843 $ & $ 0.0025 $ & $ 0.0081 $\n",
      "7Be2 $ 0.8613 $ & $ 0.0123 $ & $ 0.0408 $\n",
      "8B $ 16.34 $ & $ 4.4430 $ & $ 14.6870 $\n",
      "13N $ 1.193 $ & $ 0.0237 $ & $ 0.0784 $\n",
      "15O $ 1.7285 $ & $ 0.0497 $ & $ 0.1645 $\n",
      "17F $ 1.7365 $ & $ 0.0502 $ & $ 0.1660 $\n",
      "DSNB $ 91.201 $ & $ 138.2405 $ & $ 455.6604 $\n",
      "Atm $ 10000.0 $ & $ 1418586.8534 $ & $ 3385340.3469 $\n",
      "GeoU $ 4.54 $ & $ 0.3431 $ & $ 1.1345 $\n",
      "GeoTh $ 2.33 $ & $ 0.0904 $ & $ 0.2989 $\n",
      "GeoK $ 1.3572 $ & $ 0.0307 $ & $ 0.1014 $\n",
      "Reactor $ 11.418 $ & $ 2.1697 $ & $ 7.1734 $\n"
     ]
    }
   ],
   "source": [
    "import sys\n",
    "sys.path.append('../src')\n",
    "from numpy import *\n",
    "from Params import *\n",
    "from NeutrinoFuncs import *\n",
    "\n",
    "E_th = 1.0e-4\n",
    "Names,Solar,E_nu_all,Flux_all,Flux_norm,Flux_err = GetNuFluxes(E_th,Nuc=Xe131)\n",
    "n_nu = shape(Flux_all)[0]\n",
    "EmaxAr = MaxNuRecoilEnergies(Ar40)\n",
    "EmaxXe = MaxNuRecoilEnergies(Xe131)\n",
    "\n",
    "for i in range(0,n_nu):\n",
    "    print(Names[i],'$',NuMaxEnergy[i],'$ & $','{0:.4f}'.format(EmaxXe[i]),'$ & $','{0:.4f}'.format(EmaxAr[i]),'$')\n"
   ]
  },
  {
   "cell_type": "code",
   "execution_count": 8,
   "metadata": {},
   "outputs": [
    {
     "data": {
      "text/plain": [
       "(0.001, 1)"
      ]
     },
     "execution_count": 8,
     "metadata": {},
     "output_type": "execute_result"
    },
    {
     "data": {
      "image/png": "[encoded data removed]",
      "text/plain": [
       "<Figure size 432x288 with 1 Axes>"
      ]
     },
     "metadata": {
      "needs_background": "light"
     },
     "output_type": "display_data"
    }
   ],
   "source": [
    "from LabFuncs import *\n",
    "import matplotlib.pyplot as plt \n",
    "E_r = logspace(-1,4,100)\n",
    "plt.loglog(E_r,FormFactorHelm(E_r,131)**2.0)\n",
    "plt.loglog(E_r,FormFactorHelm(E_r,40)**2.0,'--')\n",
    "\n",
    "plt.ylim([1e-3,1])\n"
   ]
  },
  {
   "cell_type": "code",
   "execution_count": null,
   "metadata": {},
   "outputs": [],
   "source": []
  }
 ],
 "metadata": {
  "kernelspec": {
   "display_name": "Python 3",
   "language": "python",
   "name": "python3"
  },
  "language_info": {
   "codemirror_mode": {
    "name": "ipython",
    "version": 3
   },
   "file_extension": ".py",
   "mimetype": "text/x-python",
   "name": "python",
   "nbconvert_exporter": "python",
   "pygments_lexer": "ipython3",
   "version": "3.7.4"
  }
 },
 "nbformat": 4,
 "nbformat_minor": 4
}

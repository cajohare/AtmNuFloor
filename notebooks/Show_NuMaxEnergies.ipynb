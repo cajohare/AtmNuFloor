{
 "cells": [
  {
   "cell_type": "code",
   "execution_count": 72,
   "metadata": {},
   "outputs": [
    {
     "name": "stdout",
     "output_type": "stream",
     "text": [
      "pp $ 0.42341 $ & $ 0.003 $ & $ 0.010 $\n",
      "pep $ 1.44 $ & $ 0.035 $ & $ 0.114 $\n",
      "hep $ 18.765 $ & $ 5.859 $ & $ 19.367 $\n",
      "7Be1 $ 0.3843 $ & $ 0.002 $ & $ 0.008 $\n",
      "7Be2 $ 0.8613 $ & $ 0.012 $ & $ 0.041 $\n",
      "8B $ 16.34 $ & $ 4.443 $ & $ 14.687 $\n",
      "13N $ 1.193 $ & $ 0.024 $ & $ 0.078 $\n",
      "15O $ 1.7285 $ & $ 0.050 $ & $ 0.164 $\n",
      "17F $ 1.7365 $ & $ 0.050 $ & $ 0.166 $\n",
      "DSNB $ 91.201 $ & $ 138.240 $ & $ 455.660 $\n",
      "Atm $ 10000.0 $ & $ 1418586.853 $ & $ 3385340.347 $\n",
      "GeoU $ 4.54 $ & $ 0.343 $ & $ 1.135 $\n",
      "GeoTh $ 2.33 $ & $ 0.090 $ & $ 0.299 $\n",
      "GeoK $ 1.3572 $ & $ 0.031 $ & $ 0.101 $\n",
      "Reactor $ 11.418 $ & $ 2.170 $ & $ 7.173 $\n"
     ]
    }
   ],
   "source": [
    "import sys\n",
    "sys.path.append('../src')\n",
    "from numpy import *\n",
    "from Params import *\n",
    "from NeutrinoFuncs import *\n",
    "\n",
    "E_th = 1.0e-4\n",
    "Names,Solar,E_nu_all,Flux_all,Flux_norm,Flux_err = GetNuFluxes(E_th,Nuc=Xe131)\n",
    "n_nu = shape(Flux_all)[0]\n",
    "EmaxAr = MaxNuRecoilEnergies(Ar40)\n",
    "EmaxXe = MaxNuRecoilEnergies(Xe131)\n",
    "\n",
    "for i in range(0,n_nu):\n",
    "    print(Names[i],'$',NuMaxEnergy[i],'$ & $','{0:.3f}'.format(EmaxXe[i]),'$ & $','{0:.3f}'.format(EmaxAr[i]),'$')\n"
   ]
  },
  {
   "cell_type": "code",
   "execution_count": 52,
   "metadata": {},
   "outputs": [
    {
     "name": "stdout",
     "output_type": "stream",
     "text": [
      "pp $ 0.2802 0.0000 0.0001\n",
      "pep $ 1.4400 0.0009 0.0031\n",
      "hep $ 10.2933 0.0485 0.1603\n",
      "7Be1 $ 0.3843 0.0001 0.0002\n",
      "7Be2 $ 0.8613 0.0003 0.0011\n",
      "8B $ 7.2593 0.0241 0.0798\n",
      "13N $ 0.7488 0.0003 0.0008\n",
      "15O $ 1.0584 0.0005 0.0017\n",
      "17F $ 1.0617 0.0005 0.0017\n",
      "DSNB $ 8.7809 0.0353 0.1167\n",
      "Atm $ 477.9313 103.7226 336.8943\n",
      "GeoU $ 1.0506 0.0005 0.0017\n",
      "GeoTh $ 0.9325 0.0004 0.0013\n",
      "GeoK $ 0.8010 0.0003 0.0010\n",
      "Reactor $ 0.8173 0.0003 0.0010\n"
     ]
    }
   ],
   "source": [
    "def rms_energy(E_nu,Flux):\n",
    "    return sqrt(trapz(Flux*E_nu**2,E_nu)/trapz(Flux,E_nu))\n",
    "\n",
    "m_N_Xe = (Xe131.MassNumber)*m_p_keV\n",
    "m_N_Ar = (Ar40.MassNumber)*m_p_keV\n",
    "\n",
    "for i in range(0,n_nu):\n",
    "    E_rms = rms_energy(E_nu_all[i,:],Flux_all[i,:])\n",
    "    E_r_90_Xe = (0.05*2*m_N_Xe*(1000.0*E_rms)**2.0/(m_N_Xe+1000*E_rms)**2.0)*(1 - 0.9/2)\n",
    "    E_r_90_Ar = (0.05*2*m_N_Ar*(1000.0*E_rms)**2.0/(m_N_Ar+1000*E_rms)**2.0)*(1 - 0.9/2)\n",
    "\n",
    "    print(Names[i],'$','{0:.4f}'.format(E_rms),'{0:.4f}'.format(E_r_90_Xe),'{0:.4f}'.format(E_r_90_Ar))\n",
    "\n",
    "\n"
   ]
  },
  {
   "cell_type": "code",
   "execution_count": 23,
   "metadata": {},
   "outputs": [],
   "source": [
    "Flux = Flux_all[0,:]\n",
    "E_nu = E_nu_all[0,:]\n",
    "\n",
    "\n"
   ]
  },
  {
   "cell_type": "code",
   "execution_count": 51,
   "metadata": {},
   "outputs": [
    {
     "name": "stdout",
     "output_type": "stream",
     "text": [
      "pp $ 0.0050\n",
      "pep $ 1.4400\n",
      "hep $ 0.0188\n",
      "7Be1 $ 0.3843\n",
      "7Be2 $ 0.8613\n",
      "8B $ 0.0200\n",
      "13N $ 0.0060\n",
      "15O $ 0.0035\n",
      "17F $ 0.0035\n",
      "DSNB $ 0.0100\n",
      "Atm $ 13.1830\n",
      "GeoU $ 0.1020\n",
      "GeoTh $ 0.1031\n",
      "GeoK $ 0.1031\n",
      "Reactor $ 0.0100\n"
     ]
    }
   ],
   "source": [
    "import matplotlib.pyplot as plt\n",
    "\n",
    "for i in range(0,n_nu):\n",
    "    Flux = Flux_all[i,:]\n",
    "    E_nu = E_nu_all[i,:]\n",
    "    if Flux[1]<0:\n",
    "        E_peak = E_nu[argmax(Flux)]\n",
    "    else:\n",
    "        E_peak = E_nu[0]\n",
    "    print(Names[i],'$','{0:.4f}'.format(E_peak))\n"
   ]
  },
  {
   "cell_type": "code",
   "execution_count": 44,
   "metadata": {},
   "outputs": [],
   "source": [
    "E_r = logspace(-3,3,10000)\n",
    "t = 0\n",
    "dR_Ar = AllNuRates(E_r,t,Solar,E_nu_all,Flux_all,Nuc=Params.Ar40)\n",
    "dR_Xe = AllNuRates(E_r,t,Solar,E_nu_all,Flux_all,Nuc=Params.Xe131)"
   ]
  },
  {
   "cell_type": "code",
   "execution_count": 70,
   "metadata": {},
   "outputs": [
    {
     "name": "stdout",
     "output_type": "stream",
     "text": [
      "pp $ 0.2802 $ & $ 0.0013 $ & $ 0.0024 $\n",
      "pep $ 1.4400 $ & $ 0.0108 $ & $ 0.0341 $\n",
      "hep $ 10.2933 $ & $ 0.6035 $ & $ 2.0302 $\n",
      "7Be1 $ 0.3843 $ & $ 0.0014 $ & $ 0.0031 $\n",
      "7Be2 $ 0.8613 $ & $ 0.0043 $ & $ 0.0127 $\n",
      "8B $ 7.2593 $ & $ 0.3139 $ & $ 1.0459 $\n",
      "13N $ 0.7488 $ & $ 0.0042 $ & $ 0.0116 $\n",
      "15O $ 1.0584 $ & $ 0.0075 $ & $ 0.0225 $\n",
      "17F $ 1.0617 $ & $ 0.0075 $ & $ 0.0226 $\n",
      "DSNB $ 8.7809 $ & $ 0.7879 $ & $ 2.8441 $\n",
      "Atm $ 477.9313 $ & $ 10.2660 $ & $ 63.6034 $\n",
      "GeoU $ 1.0506 $ & $ 0.0108 $ & $ 0.0324 $\n",
      "GeoTh $ 0.9325 $ & $ 0.0100 $ & $ 0.0295 $\n",
      "GeoK $ 0.8010 $ & $ 0.0050 $ & $ 0.0142 $\n",
      "Reactor $ 0.8173 $ & $ 0.0351 $ & $ 0.1069 $\n"
     ]
    }
   ],
   "source": [
    "from scipy.integrate import cumtrapz\n",
    "\n",
    "def E_r_median(dR):\n",
    "    R_cum = cumtrapz(dR,E_r)\n",
    "    R_cum /= R_cum[-1]\n",
    "    E_med = E_r[argmin(abs(R_cum-0.5))]\n",
    "    return E_med\n",
    "\n",
    "\n",
    "for i in range(0,n_nu):\n",
    "    E_nu_rms = rms_energy(E_nu_all[i,:],Flux_all[i,:])\n",
    "    E_peak_Ar = E_r_median(dR_Ar[i,:])\n",
    "    E_peak_Xe = E_r_median(dR_Xe[i,:])\n",
    "    print(Names[i],'$','{0:.4f}'.format(E_nu_rms),'$ & $','{0:.4f}'.format(E_peak_Xe),'$ & $','{0:.4f}'.format(E_peak_Ar),'$')"
   ]
  },
  {
   "cell_type": "code",
   "execution_count": null,
   "metadata": {},
   "outputs": [],
   "source": []
  }
 ],
 "metadata": {
  "kernelspec": {
   "display_name": "Python 3",
   "language": "python",
   "name": "python3"
  },
  "language_info": {
   "codemirror_mode": {
    "name": "ipython",
    "version": 3
   },
   "file_extension": ".py",
   "mimetype": "text/x-python",
   "name": "python",
   "nbconvert_exporter": "python",
   "pygments_lexer": "ipython3",
   "version": "3.7.6"
  }
 },
 "nbformat": 4,
 "nbformat_minor": 4
}

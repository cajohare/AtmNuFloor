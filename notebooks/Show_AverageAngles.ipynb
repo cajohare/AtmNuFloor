{
 "cells": [
  {
   "cell_type": "code",
   "execution_count": 13,
   "metadata": {},
   "outputs": [
    {
     "name": "stdout",
     "output_type": "stream",
     "text": [
      "0.02841\n",
      "0.05657\n",
      "0.08448\n",
      "0.11252\n",
      "0.14031\n",
      "0.16816\n",
      "0.19717\n",
      "0.22556\n",
      "0.25379\n",
      "0.2813\n",
      "0.30949\n",
      "0.33751\n",
      "0.36643\n",
      "0.39443\n",
      "0.42266\n",
      "0.45027\n",
      "0.47776\n",
      "0.50605\n",
      "0.53307\n",
      "0.5607\n",
      "0.58886\n",
      "0.61647\n",
      "0.64438\n",
      "0.67326\n",
      "0.70108\n",
      "0.72929\n",
      "0.75756\n",
      "0.78552\n",
      "0.81301\n",
      "0.84066\n",
      "0.86843\n",
      "0.89676\n",
      "0.92467\n",
      "0.95316\n",
      "0.98078\n",
      "1.00913\n"
     ]
    }
   ],
   "source": [
    "import os\n",
    "import sys\n",
    "sys.path.append('../src')\n",
    "from numpy import *\n",
    "from numpy import random\n",
    "from Params import *\n",
    "from NeutrinoFuncs import *\n",
    "\n",
    "### Possible variables\n",
    "ngen = 100000\n",
    "Nuc = Ar40\n",
    "fname = 'AtmNu_GranSasso_SolarMin.d'\n",
    "nc = 20\n",
    "np = 20\n",
    "ne = 50\n",
    "\n",
    "#### Load high energy data\n",
    "Phi_tot,E_high,cosZ,phi_Az = GetAtmNuFluxes(fname)\n",
    "Phi_high = squeeze(sum(sum(Phi_tot,0),0))\n",
    "\n",
    "###### Load low energy FLUKA data\n",
    "dat1 = loadtxt(nufile_dir+'/atmospheric/FLUKA/AtmNu_mubar.txt',delimiter=',')\n",
    "dat2 = loadtxt(nufile_dir+'/atmospheric/FLUKA/AtmNu_mu.txt',delimiter=',')\n",
    "dat3 = loadtxt(nufile_dir+'/atmospheric/FLUKA/AtmNu_e.txt',delimiter=',')\n",
    "dat4 = loadtxt(nufile_dir+'/atmospheric/FLUKA/AtmNu_ebar.txt',delimiter=',')\n",
    "E_low = dat1[:,0]\n",
    "Phi_low = dat1[:,1]+dat2[:,1]+dat3[:,1]+dat4[:,1]\n",
    "\n",
    "###### Join the two\n",
    "E_join = append(E_low[0:260],E_high[9:])\n",
    "Phi_join = append(Phi_low[0:260],Phi_high[9:])\n",
    "\n",
    "##### Interpolate to create new array\n",
    "nfine = 1000\n",
    "E_nu_max = 1.0e4\n",
    "E_fine = linspace(E_join[0],E_nu_max,nfine)\n",
    "Phi_fine = interp(E_fine,E_join,Phi_join)\n",
    "\n",
    "# Generate ngen initial energies and directions\n",
    "E_gen,phi_nu_gen,costh_nu_gen,E_r_gen =\\\n",
    "    GenerateAtmNuDirections(ngen,E_fine,Phi_fine,E_high,Phi_tot,cosZ,phi_Az,Nuc)\n",
    "\n",
    "ngen = size(E_gen)\n",
    "\n",
    "####### Scatter\n",
    "# Nucleus mass\n",
    "A = Nuc.MassNumber\n",
    "m_N_keV = A*m_p_keV\n",
    "\n",
    "# Scattering angles\n",
    "th_R = arccos(((E_gen*1000+m_N_keV)/(E_gen*1000))*sqrt(E_r_gen/(2*m_N_keV)))"
   ]
  },
  {
   "cell_type": "code",
   "execution_count": 2,
   "metadata": {},
   "outputs": [
    {
     "ename": "NameError",
     "evalue": "name 'th_r' is not defined",
     "output_type": "error",
     "traceback": [
      "\u001b[0;31m---------------------------------------------------------------------------\u001b[0m",
      "\u001b[0;31mNameError\u001b[0m                                 Traceback (most recent call last)",
      "\u001b[0;32m<ipython-input-2-fd6851b2e05b>\u001b[0m in \u001b[0;36m<module>\u001b[0;34m\u001b[0m\n\u001b[0;32m----> 1\u001b[0;31m \u001b[0mth_r\u001b[0m\u001b[0;34m\u001b[0m\u001b[0;34m\u001b[0m\u001b[0m\n\u001b[0m",
      "\u001b[0;31mNameError\u001b[0m: name 'th_r' is not defined"
     ]
    }
   ],
   "source": []
  },
  {
   "cell_type": "code",
   "execution_count": 18,
   "metadata": {},
   "outputs": [
    {
     "name": "stdout",
     "output_type": "stream",
     "text": [
      "81.80592232215845\n",
      "76.50339194400983\n",
      "71.5810543581141\n"
     ]
    },
    {
     "data": {
      "image/png": "[encoded data removed]",
      "text/plain": [
       "<Figure size 432x288 with 1 Axes>"
      ]
     },
     "metadata": {
      "needs_background": "light"
     },
     "output_type": "display_data"
    }
   ],
   "source": [
    "import matplotlib.pyplot as plt\n",
    "\n",
    "mask1 = (E_r_gen<10.0)&(E_r_gen>2.0)\n",
    "mask2 = (E_r_gen<50.0)&(E_r_gen>10.0)\n",
    "mask3 = (E_r_gen>50.0)\n",
    "\n",
    "\n",
    "plt.hist(th_R[mask1]*180/pi,bins=50,color='g',alpha=0.2)\n",
    "plt.hist(th_R[mask2]*180/pi,bins=50,color='r',alpha=0.2)\n",
    "plt.hist(th_R[mask3]*180/pi,bins=50,color='b',alpha=0.2)\n",
    "\n",
    "\n",
    "print(mean(th_R[mask1]*180/pi))\n",
    "print(mean(th_R[mask2]*180/pi))\n",
    "print(mean(th_R[mask3]*180/pi))"
   ]
  },
  {
   "cell_type": "code",
   "execution_count": 26,
   "metadata": {},
   "outputs": [
    {
     "data": {
      "text/plain": [
       "[<matplotlib.lines.Line2D at 0x120f89990>]"
      ]
     },
     "execution_count": 26,
     "metadata": {},
     "output_type": "execute_result"
    },
    {
     "data": {
      "image/png": "[encoded data removed]",
      "text/plain": [
       "<Figure size 432x288 with 1 Axes>"
      ]
     },
     "metadata": {
      "needs_background": "light"
     },
     "output_type": "display_data"
    }
   ],
   "source": [
    "E_r = linspace(0.0,1000.0,100)\n",
    "plt.plot(E_r,LabFuncs.FormFactorHelm(E_r,40.0))"
   ]
  },
  {
   "cell_type": "code",
   "execution_count": null,
   "metadata": {},
   "outputs": [],
   "source": []
  }
 ],
 "metadata": {
  "kernelspec": {
   "display_name": "Python 3",
   "language": "python",
   "name": "python3"
  },
  "language_info": {
   "codemirror_mode": {
    "name": "ipython",
    "version": 3
   },
   "file_extension": ".py",
   "mimetype": "text/x-python",
   "name": "python",
   "nbconvert_exporter": "python",
   "pygments_lexer": "ipython3",
   "version": "3.7.4"
  }
 },
 "nbformat": 4,
 "nbformat_minor": 4
}

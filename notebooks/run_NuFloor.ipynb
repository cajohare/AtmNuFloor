{
 "cells": [
  {
   "cell_type": "code",
   "execution_count": 1,
   "metadata": {},
   "outputs": [],
   "source": [
    "import sys\n",
    "sys.path.append('../src')\n",
    "from numpy import *\n",
    "from numpy import random\n",
    "import matplotlib as mpl\n",
    "from mpl_toolkits.axes_grid1.inset_locator import (inset_axes, InsetPosition,mark_inset)\n",
    "import matplotlib.pyplot as plt\n",
    "import matplotlib.cm as cm\n",
    "from Params import *\n",
    "from NeutrinoFuncs import *\n",
    "from WIMPFuncs import *\n",
    "from PlotFuncs import *\n",
    "from LabFuncs import *\n",
    "import cmocean\n",
    "\n",
    "inp = 'NuFloorAr'"
   ]
  },
  {
   "cell_type": "code",
   "execution_count": 1,
   "metadata": {},
   "outputs": [
    {
     "ename": "NameError",
     "evalue": "name 'Ar40' is not defined",
     "output_type": "error",
     "traceback": [
      "\u001b[0;31m---------------------------------------------------------------------------\u001b[0m",
      "\u001b[0;31mNameError\u001b[0m                                 Traceback (most recent call last)",
      "\u001b[0;32m<ipython-input-1-2874a79daad4>\u001b[0m in \u001b[0;36m<module>\u001b[0;34m\u001b[0m\n\u001b[0;32m----> 1\u001b[0;31m \u001b[0mNuc\u001b[0m \u001b[0;34m=\u001b[0m \u001b[0mAr40\u001b[0m\u001b[0;34m\u001b[0m\u001b[0;34m\u001b[0m\u001b[0m\n\u001b[0m\u001b[1;32m      2\u001b[0m \u001b[0;34m\u001b[0m\u001b[0m\n\u001b[1;32m      3\u001b[0m \u001b[0mE_th\u001b[0m \u001b[0;34m=\u001b[0m \u001b[0;36m1.0e-4\u001b[0m\u001b[0;34m\u001b[0m\u001b[0;34m\u001b[0m\u001b[0m\n\u001b[1;32m      4\u001b[0m \u001b[0mE_max\u001b[0m \u001b[0;34m=\u001b[0m \u001b[0;36m200.0\u001b[0m\u001b[0;34m\u001b[0m\u001b[0;34m\u001b[0m\u001b[0m\n\u001b[1;32m      5\u001b[0m \u001b[0;34m\u001b[0m\u001b[0m\n",
      "\u001b[0;31mNameError\u001b[0m: name 'Ar40' is not defined"
     ]
    }
   ],
   "source": [
    "Nuc = Ar40\n",
    "\n",
    "E_th = 1.0e-4\n",
    "E_max = 200.0\n",
    "\n",
    "nTot_bins = 50\n",
    "\n",
    "E_edges = logspace(log10(E_th),log10(E_max),nTot_bins+1)\n",
    "\n",
    "nm = 1000\n",
    "m_vals = logspace(-1,4,nm)\n",
    "\n",
    "R_wimp = zeros(shape=(nm,nTot_bins))\n",
    "for i in range(0,nm):\n",
    "    dR = dRdE_wimp(E_edges,array([67.0+Jan1]),WIMP(m_vals[i],1.0e-45),Nuc=Nuc,HaloModel=SHM)\n",
    "    R_wimp[i,:] = 0.5*(dR[1:]+dR[0:-1])*(E_edges[1:]-E_edges[0:-1])\n",
    "    \n",
    "\n",
    "Names,Solar,E_nu_all,Flux_all,Flux_norm,Flux_err = GetNuFluxes(E_th,Nuc=Nuc)\n",
    "#Flux_err[Names=='8B'] = B8Flux_GS98\n",
    "#Flux_err[Names=='8B'] = B8Unc_GS98\n",
    "dR = AllNuRates(E_edges,67.0+Jan1,Solar,E_nu_all,Flux_all,Nuc=Nuc)\n",
    "n_nu = shape(Flux_all)[0]\n",
    "R_nu = zeros(shape=(n_nu,nTot_bins))\n",
    "for i in range(0,n_nu):\n",
    "    R_nu[i,:] = 0.5*(dR[i,1:]+dR[i,0:-1])*(E_edges[1:]-E_edges[0:-1])\n",
    "    \n",
    "dat1 = zeros(shape=(nm,nTot_bins+1))\n",
    "dat1[:,1:] = R_wimp\n",
    "dat1[:,0] = m_vals \n",
    "savetxt(recoil_dir+'RD_sig_'+inp+'.txt',dat1,header=str(nm)+' '+str(nTot_bins))\n",
    "dat2 = zeros(shape=(n_nu,nTot_bins+2))\n",
    "dat2[:,2:] = R_nu\n",
    "dat2[:,0] = Flux_norm \n",
    "dat2[:,1] = Flux_err\n",
    "savetxt(recoil_dir+'RD_bg_'+inp+'.txt',dat2,header=str(n_nu)+' '+str(nTot_bins))\n",
    "\n",
    "\n",
    "import shlex\n",
    "import subprocess\n",
    "import pprint\n",
    "\n",
    "def runNuFloor_vs_Mass(inp,verbose=False):\n",
    "    command = \"../src/like/./runNuFloor \"+inp\n",
    "    if verbose:\n",
    "        command += \" 1\"\n",
    "    \n",
    "    process = subprocess.Popen(shlex.split(command), stdout=subprocess.PIPE)\n",
    "    while True:\n",
    "        output = process.stdout.readline()\n",
    "        if process.poll()==0:\n",
    "            break\n",
    "        if output:\n",
    "            print(output.strip().decode(\"utf-8\"))\n",
    "    rc = process.poll()\n",
    "    return rc\n",
    "rc = runNuFloor_vs_Mass(inp)"
   ]
  },
  {
   "cell_type": "code",
   "execution_count": 25,
   "metadata": {},
   "outputs": [
    {
     "name": "stdout",
     "output_type": "stream",
     "text": [
      "====NuFloor====\n",
      "Reading NuFloorAr\n",
      "nm =        1000\n",
      "nTot_bins =          50\n",
      "n_nu =          15\n",
      "1 of          12 Exposure =    1.0000000000000000E-002 ton-year\n",
      "2 of          12 Exposure =   0.10000000000000001      ton-year\n",
      "3 of          12 Exposure =    1.0000000000000000      ton-year\n",
      "4 of          12 Exposure =    10.000000000000000      ton-year\n",
      "5 of          12 Exposure =    100.00000000000000      ton-year\n",
      "6 of          12 Exposure =    1000.0000000000000      ton-year\n",
      "7 of          12 Exposure =    10000.000000000000      ton-year\n",
      "8 of          12 Exposure =    100000.00000000000      ton-year\n",
      "9 of          12 Exposure =    1000000.0000000000      ton-year\n",
      "10 of          12 Exposure =    10000000.000000000      ton-year\n",
      "11 of          12 Exposure =    100000000.00000000      ton-year\n",
      "12 of          12 Exposure =    1000000000.0000000      ton-year\n",
      "Time elapsed =    13860.6602\n",
      "=====DONE=====\n"
     ]
    }
   ],
   "source": []
  },
  {
   "cell_type": "code",
   "execution_count": 42,
   "metadata": {},
   "outputs": [
    {
     "data": {
      "text/plain": [
       "False"
      ]
     },
     "execution_count": 42,
     "metadata": {},
     "output_type": "execute_result"
    }
   ],
   "source": [
    "E_th = 2.0\n",
    "E_max = 100.0\n",
    "nTot_bins = 30\n",
    "E_edges = logspace(log10(E_th),log10(E_max),nTot_bins+1)\n",
    "\n",
    "n_ex = 10\n",
    "ex_vals = logspace(-1,8,n_ex)\n",
    "dR = dRdE_wimp(E_edges,array([67.0+Jan1]),WIMP(7.0,1.0e-45))\n",
    "R_wimp = 0.5*(dR[1:]+dR[0:-1])*(E_edges[1:]-E_edges[0:-1])\n",
    "dat1 = zeros(shape=(nm,nTot_bins+1))\n",
    "for i in range(0,n_ex):\n",
    "    dat1[i,1:] = R_wimp\n",
    "dat1[:,0] = ex_vals \n",
    "\n",
    "Names,Solar,E_nu_all,Flux_all,Flux_norm,Flux_err = GetNuFluxes(E_th,Ar40)\n",
    "dR = AllNuRates(E_edges,67.0+Jan1,Solar,E_nu_all,Flux_all)\n",
    "n_nu = shape(Flux_all)[0]\n",
    "R_nu = zeros(shape=(n_nu,nTot_bins))\n",
    "for i in range(0,n_nu):\n",
    "    R_nu[i,:] = 0.5*(dR[i,1:]+dR[i,0:-1])*(E_edges[1:]-E_edges[0:-1])\n",
    "dat2 = zeros(shape=(n_nu,nTot_bins+2))\n",
    "dat2[:,2:] = R_nu\n",
    "dat2[:,0] = Flux_norm \n",
    "\n",
    "ferrs = array([1.0,5.0,10.0,20.0,40.0])\n",
    "    \n",
    "    \n",
    "inp = '6GeVAr_'+str(int(ferrs[0]))\n",
    "savetxt(recoil_dir+'RD_sig_'+inp+'.txt',dat1,header=str(nm)+' '+str(nTot_bins))\n",
    "dat2[:,1] = ferrs/100.0\n",
    "savetxt(recoil_dir+'RD_bg_'+inp+'.txt',dat2,header=str(n_nu)+' '+str(nTot_bins))"
   ]
  }
 ],
 "metadata": {
  "kernelspec": {
   "display_name": "Python 3",
   "language": "python",
   "name": "python3"
  },
  "language_info": {
   "codemirror_mode": {
    "name": "ipython",
    "version": 3
   },
   "file_extension": ".py",
   "mimetype": "text/x-python",
   "name": "python",
   "nbconvert_exporter": "python",
   "pygments_lexer": "ipython3",
   "version": "3.7.4"
  }
 },
 "nbformat": 4,
 "nbformat_minor": 4
}
